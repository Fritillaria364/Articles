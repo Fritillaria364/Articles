{
 "cells": [
  {
   "cell_type": "markdown",
   "metadata": {},
   "source": [
    "# End-to-end Sequence Labeling via Bi-directional LSTM-CNNs-CRF\n",
    "Xuezhe Ma and Eduard Hovy"
   ]
  },
  {
   "cell_type": "markdown",
   "metadata": {},
   "source": [
    "## まとめ\n",
    "### どんなの\n",
    "単語-文字レベル両方の表現から自動的に特徴を得る、双方向LSTM・CNN・CRFを複合的に用いたend2endのニューラルネットワーク構造  \n",
    "\n",
    "### すごいとこ\n",
    "従来の系列ラベリングシステム(隠れマルコフモデル、CRFのような線形統計モデル)は膨大なタスク固有の知識による手作業の特徴量設計やデータの前処理が必要だった  \n",
    "本システムはタスク固有のリソース、特徴設計、データの前処理を必要とせず、ラベルなしの学習済単語埋め込みのみを用いる完全なend2endモデルである  \n",
    "\n",
    "### 手法\n",
    "CNNによる文字表現＋単語分散ベクトル → Bi-LSTM  \n",
    "BiLSTMの出力 → CRF  \n",
    "\n",
    "### 実験\n",
    "\n",
    "\n",
    "### 議論\n",
    "\n",
    "\n",
    "###  ネクストコナンズヒント"
   ]
  },
  {
   "cell_type": "markdown",
   "metadata": {},
   "source": [
    "## 要素技術\n",
    "### CNN for character embedding\n",
    "単語を構成する各文字にベクトルを割り当て、それらを畳み込んだ上でMax Poolingして固定長ベクトルを得る  \n",
    "\n",
    "### Bi-LSTM\n",
    "やるだけ  \n",
    "\n",
    "### CRF\n",
    "系列ラベリング(や一般的な構造化の予測)のタスクでは\n",
    "、近傍のラベル間の関係を考慮し、与えられた入力文にとって最良なラベルのつながりを同時にデコードするのがよい  \n",
    "(品詞タグ付けでは動詞の前に名詞が来るみたいな、NERのBIO2タグではI-ORGの次にI-PERが来ることはないみたいな)  \n",
    "よって、本紙では系列へのラベル付けを個々に独立して行うのではなく、CRFを用いて同時に行う  \n",
    "\n",
    "$\\mathbf{z = {z_1, ... , z_n}}$を一般的な入力系列とし、$\\mathbf{z_i}$をi番目の単語のベクトルとする  \n",
    "また$\\mathbf{y = {y_1, ... , y_n}}$を各zに対するラベルの系列とし、$Y\\mathbf{(z)}$をzに対して表現可能なラベル系列の集合とする  \n",
    "\n",
    "ここで、系列CRFの確率モデルは、次に示すようなzを与えられた時に可能なyの系列すべてについての条件付き確率$p(y|z;W,b)$として定義される  \n",
    "$$p(y|z;W,b) = \\frac{\\prod^n_{i=1}\\psi_i(y_{i-1},y_i,\\mathbf{z})}{\\sum_{y'\\in Y(x)}\\prod^n_{i=1}\\psi_i(y'_{i-1},y'_i,\\mathbf{z})}$$\n",
    "\n",
    "ここで$\\psi_i(y',y,z) = \\exp(\\mathbf{W}^T_{y',y}z_i+b_{y',y})$はポテンシャル関数であり、またWとbは(y',y)のペアに対応した重みとバイアス  \n",
    "CRFの学習では、条件付き尤度を最大化するように推定する:最尤推定法(たとえば対数尤度関数とか使って)  \n",
    "\n"
   ]
  }
 ],
 "metadata": {
  "kernelspec": {
   "display_name": "Python 3",
   "language": "python",
   "name": "python3"
  },
  "language_info": {
   "codemirror_mode": {
    "name": "ipython",
    "version": 3
   },
   "file_extension": ".py",
   "mimetype": "text/x-python",
   "name": "python",
   "nbconvert_exporter": "python",
   "pygments_lexer": "ipython3",
   "version": "3.6.5"
  }
 },
 "nbformat": 4,
 "nbformat_minor": 2
}
