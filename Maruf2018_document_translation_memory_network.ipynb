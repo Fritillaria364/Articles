{
 "cells": [
  {
   "cell_type": "markdown",
   "metadata": {},
   "source": [
    "# Document Context Neural Machine Translatoin with Memory Networks\n",
    "Maruf et al. NAACL2018"
   ]
  },
  {
   "cell_type": "markdown",
   "metadata": {},
   "source": [
    "## どんなの\n",
    "メモリネットワークを用いてソース/ターゲット両方から文脈を獲得するdocument-level translationモデル"
   ]
  },
  {
   "cell_type": "markdown",
   "metadata": {},
   "source": [
    "## 先行研究との比較\n",
    "先行研究は直前の数文しか考慮しておらず非常に局所的な文脈\n",
    "提案手法ではソース/ターゲットにそれぞれ対応した2つのメモリコンポーネントを用いグローバルな文脈を保持する  \n"
   ]
  },
  {
   "cell_type": "markdown",
   "metadata": {},
   "source": [
    "## 手法のキモ\n",
    "t番目の文におけるj番目の単語を翻訳するにあたり、t番目のエンコーダ/デコーダ"
   ]
  }
 ],
 "metadata": {
  "kernelspec": {
   "display_name": "Python 3",
   "language": "python",
   "name": "python3"
  },
  "language_info": {
   "codemirror_mode": {
    "name": "ipython",
    "version": 3
   },
   "file_extension": ".py",
   "mimetype": "text/x-python",
   "name": "python",
   "nbconvert_exporter": "python",
   "pygments_lexer": "ipython3",
   "version": "3.6.5"
  }
 },
 "nbformat": 4,
 "nbformat_minor": 2
}
