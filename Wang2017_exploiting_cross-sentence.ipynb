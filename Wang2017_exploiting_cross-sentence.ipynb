{
 "cells": [
  {
   "cell_type": "markdown",
   "metadata": {},
   "source": [
    "# Exploiting Cross-Sentence Context for Neural Machine Translation\n",
    "Longyue Wang  \n",
    "EMNLP2017"
   ]
  },
  {
   "cell_type": "markdown",
   "metadata": {},
   "source": [
    "## どんなの\n",
    "各文章を跨いだコンテキスト(グローバルコンテキスト)を抽出する機能を持ったNMTモデル  \n",
    "具体的には文章レベルRNNエンコーダーの上位に文書レベルRNNエンコーダーを設計し、RNNの階層構造を導入することで文章間コンテキストを得る  \n"
   ]
  },
  {
   "cell_type": "markdown",
   "metadata": {},
   "source": [
    "## 先行研究との比較\n",
    "NMTにおいて、一貫性は文書レベル翻訳における重大な課題  \n",
    "しかし、現在のNMTモデルは1文単位で翻訳を行うため、これらの問題を解決できない  \n",
    "一方、質問応答や対話モデリングのタスクでは、意味や意図の把握に文章間コンテキスト・グローバルコンテキストといった手法が役立てられている  \n",
    "だが、NMTに文章間コンテキストを導入するといった手法はあまり注目されていない  \n",
    "本研究では文章間コンテキストを導入したNMTモデルにより、同じ文書における過去のソース文が与える影響を考える"
   ]
  },
  {
   "cell_type": "markdown",
   "metadata": {},
   "source": [
    "## 手法\n",
    "文書レベルRNN on 文章レベルRNNによるRNNの階層構造によりグローバルコンテキストを得る  \n",
    "得られたグローバルコンテキストを加味して翻訳を行うにあたり、以下の3つの方策により情報を統合する  \n",
    "- Initialization: history representation(?)をエンコーダーとデコーダーの初期状態として扱う\n",
    "- 補助コンテキスト(Auxiliary Context): history representationを静的な文章間コンテキストとしてみなしアテンションのコンテキストと一緒に動作させる\n",
    "- Gating Auxiliary Context: 上の補助コンテキストにゲートを導入し、各単語を生成する際に文章間コンテキストに重みをつける  \n",
    "\n"
   ]
  },
  {
   "cell_type": "markdown",
   "metadata": {},
   "source": [
    "## 比較実験\n",
    "LDCコーパスを用いた中英翻訳タスク(約100万対訳による学習)  \n",
    "過去の3文を文章間コンテキストとみなした  \n",
    "結果最高で2.1ポイントBLEU値が向上していることが確認された  "
   ]
  },
  {
   "cell_type": "markdown",
   "metadata": {},
   "source": []
  }
 ],
 "metadata": {
  "kernelspec": {
   "display_name": "Python 3",
   "language": "python",
   "name": "python3"
  },
  "language_info": {
   "codemirror_mode": {
    "name": "ipython",
    "version": 3
   },
   "file_extension": ".py",
   "mimetype": "text/x-python",
   "name": "python",
   "nbconvert_exporter": "python",
   "pygments_lexer": "ipython3",
   "version": "3.6.5"
  }
 },
 "nbformat": 4,
 "nbformat_minor": 2
}
